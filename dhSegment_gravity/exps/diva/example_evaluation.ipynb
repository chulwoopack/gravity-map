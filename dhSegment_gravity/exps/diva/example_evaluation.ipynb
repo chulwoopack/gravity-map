{
 "cells": [
  {
   "cell_type": "code",
   "execution_count": null,
   "metadata": {},
   "outputs": [],
   "source": [
    "import tensorflow as tf\n",
    "from dh_segment.inference.loader import LoadedModel\n",
    "from glob import glob\n",
    "import numpy as np\n",
    "from tqdm import tqdm\n",
    "import os\n",
    "import cv2\n",
    "from typing import List\n",
    "from imageio import imsave"
   ]
  },
  {
   "cell_type": "code",
   "execution_count": null,
   "metadata": {},
   "outputs": [],
   "source": [
    "from dh_segment.loader import LoadedModel\n",
    "from process import prediction_fn"
   ]
  },
  {
   "cell_type": "code",
   "execution_count": null,
   "metadata": {},
   "outputs": [],
   "source": [
    "model_dirs_list = ['../../dataset/model2/export/1562877546/']\n",
    "input_dir = '../../dataset/cb55/val/images/'\n",
    "output_dir_name = 'out_predictions'"
   ]
  },
  {
   "cell_type": "markdown",
   "metadata": {},
   "source": [
    "## Prediction"
   ]
  },
  {
   "cell_type": "code",
   "execution_count": null,
   "metadata": {},
   "outputs": [],
   "source": [
    "for model_dir in model_dirs_list:\n",
    "    output_dir = '{}'.format(os.path.sep).join(model_dir.split(os.path.sep)[:-3] + [output_dir_name])\n",
    "    os.makedirs(output_dir, exist_ok=True)\n",
    "    prediction_fn(model_dir, input_dir, output_dir)"
   ]
  },
  {
   "cell_type": "code",
   "execution_count": null,
   "metadata": {},
   "outputs": [],
   "source": []
  },
  {
   "cell_type": "markdown",
   "metadata": {},
   "source": [
    "## Evaluation"
   ]
  },
  {
   "cell_type": "code",
   "execution_count": null,
   "metadata": {},
   "outputs": [],
   "source": [
    "from .evaluation import eval_fn"
   ]
  },
  {
   "cell_type": "code",
   "execution_count": null,
   "metadata": {},
   "outputs": [],
   "source": [
    "pred_dir_list = [os.path.abspath(os.path.join(md, '..', '..', output_dir_name)) \n",
    "                 for md in model_dirs_list]\n",
    "gt_dir = 'diva_test_set/pixel-level-gt/'\n",
    "DIVA_JAR = 'DIVA_Layout_Analysis_Evaluator/out/artifacts/LayoutAnalysisEvaluator.jar'"
   ]
  },
  {
   "cell_type": "code",
   "execution_count": null,
   "metadata": {},
   "outputs": [],
   "source": [
    "list_mIUs = list()\n",
    "for i, pred_dir in enumerate(pred_dir_list):\n",
    "    output_txt_filename = './{i}_diva_results.txt'\n",
    "    mean_mIU = eval_fn(pred_dir, gt_dir, output_txt_filename, diva_jar=DIVA_JAR)\n",
    "    list_mIUs.append(mean_mIU)"
   ]
  },
  {
   "cell_type": "code",
   "execution_count": null,
   "metadata": {},
   "outputs": [],
   "source": [
    "print('MIOU : {:.03} +- {:.03} ([{:.03}, {:.03}])'.format(np.mean(list_mIUs), \n",
    "                                                    np.std(list_mIUs), \n",
    "                                                    np.min(list_mIUs), \n",
    "                                                    np.max(list_mIUs)))"
   ]
  },
  {
   "cell_type": "code",
   "execution_count": null,
   "metadata": {},
   "outputs": [],
   "source": []
  }
 ],
 "metadata": {
  "kernelspec": {
   "display_name": "Python 3",
   "language": "python",
   "name": "python3"
  },
  "language_info": {
   "codemirror_mode": {
    "name": "ipython",
    "version": 3
   },
   "file_extension": ".py",
   "mimetype": "text/x-python",
   "name": "python",
   "nbconvert_exporter": "python",
   "pygments_lexer": "ipython3",
   "version": "3.6.6"
  }
 },
 "nbformat": 4,
 "nbformat_minor": 1
}
