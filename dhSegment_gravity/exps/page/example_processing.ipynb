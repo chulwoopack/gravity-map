{
 "cells": [
  {
   "cell_type": "code",
   "execution_count": null,
   "metadata": {
    "collapsed": true
   },
   "outputs": [],
   "source": [
    "import os\n",
    "from glob import glob\n",
    "from tqdm import tqdm\n",
    "import numpy as np\n",
    "import tempfile\n",
    "from .process import prediction_fn, extract_page, format_quad_to_string"
   ]
  },
  {
   "cell_type": "code",
   "execution_count": null,
   "metadata": {},
   "outputs": [],
   "source": [
    "model_dir = 'model1/export/timestamp/'\n",
    "input_dir = 'dataset_page/set/images/'\n",
    "output_dir = './out_pages'"
   ]
  },
  {
   "cell_type": "code",
   "execution_count": null,
   "metadata": {},
   "outputs": [],
   "source": [
    "pp_params = {'threshold': -1, 'kernel_size': 5}"
   ]
  },
  {
   "cell_type": "code",
   "execution_count": null,
   "metadata": {},
   "outputs": [],
   "source": [
    "with tempfile.TemporaryDirectory() as tmpdirname:\n",
    "    prediction_fn(model_dir, input_dir, tmpdirname)\n",
    "    \n",
    "    # Export page coordinates in txt file\n",
    "    with open(os.path.join(output_dir, 'pages.txt'), 'w') as f:\n",
    "        for filename in tqdm(glob(os.path.join(tmpdirname, '*.npy'))):\n",
    "        \n",
    "            prediction = np.load(filename)\n",
    "            pred_box = extract_page(prediction / np.max(prediction), **pp_params)\n",
    "            \n",
    "            f.write('{},{}\\n'.format(filename, format_quad_to_string(pred_box)))"
   ]
  }
 ],
 "metadata": {
  "kernelspec": {
   "display_name": "Python 2",
   "language": "python",
   "name": "python2"
  },
  "language_info": {
   "codemirror_mode": {
    "name": "ipython",
    "version": 2.0
   },
   "file_extension": ".py",
   "mimetype": "text/x-python",
   "name": "python",
   "nbconvert_exporter": "python",
   "pygments_lexer": "ipython2",
   "version": "2.7.6"
  }
 },
 "nbformat": 4,
 "nbformat_minor": 0
}